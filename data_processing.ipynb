{
 "cells": [
  {
   "cell_type": "code",
   "execution_count": 22,
   "metadata": {},
   "outputs": [],
   "source": [
    "import cv2\n",
    "import numpy as np\n",
    "import os\n",
    "\n",
    "# Define the input and output folders\n",
    "artworks_folder = 'artworks'\n",
    "sketches_folder = 'sketches2'\n",
    "\n",
    "# Create the sketches2 folder if it doesn’t exist\n",
    "if not os.path.exists(sketches_folder):\n",
    "    os.makedirs(sketches_folder)\n",
    "\n",
    "# Process each image in the artworks folder\n",
    "for filename in os.listdir(artworks_folder):\n",
    "    # Construct the full path to the image\n",
    "    img_path = os.path.join(artworks_folder, filename)\n",
    "    \n",
    "    # Read the image\n",
    "    image = cv2.imread(img_path)\n",
    "    if image is None:\n",
    "        print(f\"Could not read image {filename}\")\n",
    "        continue\n",
    "    \n",
    "    # Convert the image to grayscale\n",
    "    gray = cv2.cvtColor(image, cv2.COLOR_BGR2GRAY)\n",
    "    \n",
    "    # Apply Gaussian blur to remove small details\n",
    "    blurred = cv2.GaussianBlur(gray, (0, 0), 1.0)  # Reduced blur to keep more edges\n",
    "    \n",
    "    # Calculate the median intensity of the blurred image\n",
    "    median = np.median(blurred)\n",
    "    \n",
    "    # Set adaptive thresholds for Canny edge detection\n",
    "    low_threshold = int(max(0, 0.33 * median))  # Adjusted threshold to keep more edges\n",
    "    high_threshold = int(min(255, 1.0 * median))  # Adjusted threshold to keep more edges\n",
    "    \n",
    "    # Apply Canny edge detection\n",
    "    edges = cv2.Canny(blurred, low_threshold, high_threshold)\n",
    "    \n",
    "    # Invert the edge map (black edges on white background)\n",
    "    sketch = 255 - edges\n",
    "    \n",
    "    # Save the sketch to the sketches2 folder\n",
    "    output_path = os.path.join(sketches_folder, filename)\n",
    "    cv2.imwrite(output_path, sketch)"
   ]
  }
 ],
 "metadata": {
  "kernelspec": {
   "display_name": "jag",
   "language": "python",
   "name": "python3"
  },
  "language_info": {
   "codemirror_mode": {
    "name": "ipython",
    "version": 3
   },
   "file_extension": ".py",
   "mimetype": "text/x-python",
   "name": "python",
   "nbconvert_exporter": "python",
   "pygments_lexer": "ipython3",
   "version": "3.12.9"
  }
 },
 "nbformat": 4,
 "nbformat_minor": 2
}
